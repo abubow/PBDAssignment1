{
 "cells": [
  {
   "cell_type": "markdown",
   "metadata": {},
   "source": [
    "### Q1. Find the total number of patients of each disease (diagnosis) and plot in histogram"
   ]
  },
  {
   "cell_type": "code",
   "execution_count": 2,
   "metadata": {},
   "outputs": [],
   "source": [
    "import pandas as pd\n",
    "import numpy as np"
   ]
  },
  {
   "cell_type": "code",
   "execution_count": 3,
   "metadata": {},
   "outputs": [],
   "source": [
    "dataFrame = pd.read_csv(\"jsrt_metadata.csv\")"
   ]
  },
  {
   "cell_type": "code",
   "execution_count": 4,
   "metadata": {},
   "outputs": [
    {
     "data": {
      "text/html": [
       "<div>\n",
       "<style scoped>\n",
       "    .dataframe tbody tr th:only-of-type {\n",
       "        vertical-align: middle;\n",
       "    }\n",
       "\n",
       "    .dataframe tbody tr th {\n",
       "        vertical-align: top;\n",
       "    }\n",
       "\n",
       "    .dataframe thead th {\n",
       "        text-align: right;\n",
       "    }\n",
       "</style>\n",
       "<table border=\"1\" class=\"dataframe\">\n",
       "  <thead>\n",
       "    <tr style=\"text-align: right;\">\n",
       "      <th></th>\n",
       "      <th>study_id</th>\n",
       "      <th>subtlety</th>\n",
       "      <th>size</th>\n",
       "      <th>age</th>\n",
       "      <th>gender</th>\n",
       "      <th>x</th>\n",
       "      <th>y</th>\n",
       "      <th>state</th>\n",
       "      <th>position</th>\n",
       "      <th>diagnosis</th>\n",
       "    </tr>\n",
       "  </thead>\n",
       "  <tbody>\n",
       "    <tr>\n",
       "      <th>0</th>\n",
       "      <td>JPCLN001.png</td>\n",
       "      <td>5.0</td>\n",
       "      <td>15.0</td>\n",
       "      <td>53</td>\n",
       "      <td>Male</td>\n",
       "      <td>1634.0</td>\n",
       "      <td>692.0</td>\n",
       "      <td>malignant</td>\n",
       "      <td>l.upper lobe</td>\n",
       "      <td>lung cancer</td>\n",
       "    </tr>\n",
       "    <tr>\n",
       "      <th>1</th>\n",
       "      <td>JPCLN002.png</td>\n",
       "      <td>5.0</td>\n",
       "      <td>30.0</td>\n",
       "      <td>78</td>\n",
       "      <td>Female</td>\n",
       "      <td>1614.0</td>\n",
       "      <td>1090.0</td>\n",
       "      <td>benign</td>\n",
       "      <td>l.upper lobe(S5)</td>\n",
       "      <td>pulmonary hematoma</td>\n",
       "    </tr>\n",
       "    <tr>\n",
       "      <th>2</th>\n",
       "      <td>JPCLN003.png</td>\n",
       "      <td>5.0</td>\n",
       "      <td>30.0</td>\n",
       "      <td>63</td>\n",
       "      <td>Female</td>\n",
       "      <td>1303.0</td>\n",
       "      <td>447.0</td>\n",
       "      <td>malignant</td>\n",
       "      <td>l.upper lobe(S1+2)</td>\n",
       "      <td>lung cancer</td>\n",
       "    </tr>\n",
       "    <tr>\n",
       "      <th>3</th>\n",
       "      <td>JPCLN004.png</td>\n",
       "      <td>5.0</td>\n",
       "      <td>14.0</td>\n",
       "      <td>68</td>\n",
       "      <td>Female</td>\n",
       "      <td>606.0</td>\n",
       "      <td>836.0</td>\n",
       "      <td>benign</td>\n",
       "      <td>r.upper lobe</td>\n",
       "      <td>Inflammatory mass</td>\n",
       "    </tr>\n",
       "    <tr>\n",
       "      <th>4</th>\n",
       "      <td>JPCLN005.png</td>\n",
       "      <td>5.0</td>\n",
       "      <td>35.0</td>\n",
       "      <td>73</td>\n",
       "      <td>Female</td>\n",
       "      <td>1438.0</td>\n",
       "      <td>692.0</td>\n",
       "      <td>malignant</td>\n",
       "      <td>l.upper lobe(S3)</td>\n",
       "      <td>lung cancer</td>\n",
       "    </tr>\n",
       "    <tr>\n",
       "      <th>...</th>\n",
       "      <td>...</td>\n",
       "      <td>...</td>\n",
       "      <td>...</td>\n",
       "      <td>...</td>\n",
       "      <td>...</td>\n",
       "      <td>...</td>\n",
       "      <td>...</td>\n",
       "      <td>...</td>\n",
       "      <td>...</td>\n",
       "      <td>...</td>\n",
       "    </tr>\n",
       "    <tr>\n",
       "      <th>242</th>\n",
       "      <td>JPCNN089.png</td>\n",
       "      <td>NaN</td>\n",
       "      <td>NaN</td>\n",
       "      <td>50</td>\n",
       "      <td>Male</td>\n",
       "      <td>NaN</td>\n",
       "      <td>NaN</td>\n",
       "      <td>non-nodule</td>\n",
       "      <td>NaN</td>\n",
       "      <td>NaN</td>\n",
       "    </tr>\n",
       "    <tr>\n",
       "      <th>243</th>\n",
       "      <td>JPCNN090.png</td>\n",
       "      <td>NaN</td>\n",
       "      <td>NaN</td>\n",
       "      <td>68</td>\n",
       "      <td>Female</td>\n",
       "      <td>NaN</td>\n",
       "      <td>NaN</td>\n",
       "      <td>non-nodule</td>\n",
       "      <td>NaN</td>\n",
       "      <td>NaN</td>\n",
       "    </tr>\n",
       "    <tr>\n",
       "      <th>244</th>\n",
       "      <td>JPCNN091.png</td>\n",
       "      <td>NaN</td>\n",
       "      <td>NaN</td>\n",
       "      <td>81</td>\n",
       "      <td>Male</td>\n",
       "      <td>NaN</td>\n",
       "      <td>NaN</td>\n",
       "      <td>non-nodule</td>\n",
       "      <td>NaN</td>\n",
       "      <td>NaN</td>\n",
       "    </tr>\n",
       "    <tr>\n",
       "      <th>245</th>\n",
       "      <td>JPCNN092.png</td>\n",
       "      <td>NaN</td>\n",
       "      <td>NaN</td>\n",
       "      <td>70</td>\n",
       "      <td>Female</td>\n",
       "      <td>NaN</td>\n",
       "      <td>NaN</td>\n",
       "      <td>non-nodule</td>\n",
       "      <td>NaN</td>\n",
       "      <td>NaN</td>\n",
       "    </tr>\n",
       "    <tr>\n",
       "      <th>246</th>\n",
       "      <td>JPCNN093.png</td>\n",
       "      <td>NaN</td>\n",
       "      <td>NaN</td>\n",
       "      <td>41</td>\n",
       "      <td>Male</td>\n",
       "      <td>NaN</td>\n",
       "      <td>NaN</td>\n",
       "      <td>non-nodule</td>\n",
       "      <td>NaN</td>\n",
       "      <td>NaN</td>\n",
       "    </tr>\n",
       "  </tbody>\n",
       "</table>\n",
       "<p>247 rows × 10 columns</p>\n",
       "</div>"
      ],
      "text/plain": [
       "         study_id  subtlety  size age  gender       x       y       state  \\\n",
       "0    JPCLN001.png       5.0  15.0  53    Male  1634.0   692.0   malignant   \n",
       "1    JPCLN002.png       5.0  30.0  78  Female  1614.0  1090.0      benign   \n",
       "2    JPCLN003.png       5.0  30.0  63  Female  1303.0   447.0   malignant   \n",
       "3    JPCLN004.png       5.0  14.0  68  Female   606.0   836.0      benign   \n",
       "4    JPCLN005.png       5.0  35.0  73  Female  1438.0   692.0   malignant   \n",
       "..            ...       ...   ...  ..     ...     ...     ...         ...   \n",
       "242  JPCNN089.png       NaN   NaN  50    Male     NaN     NaN  non-nodule   \n",
       "243  JPCNN090.png       NaN   NaN  68  Female     NaN     NaN  non-nodule   \n",
       "244  JPCNN091.png       NaN   NaN  81    Male     NaN     NaN  non-nodule   \n",
       "245  JPCNN092.png       NaN   NaN  70  Female     NaN     NaN  non-nodule   \n",
       "246  JPCNN093.png       NaN   NaN  41    Male     NaN     NaN  non-nodule   \n",
       "\n",
       "               position           diagnosis  \n",
       "0          l.upper lobe         lung cancer  \n",
       "1      l.upper lobe(S5)  pulmonary hematoma  \n",
       "2    l.upper lobe(S1+2)         lung cancer  \n",
       "3          r.upper lobe   Inflammatory mass  \n",
       "4      l.upper lobe(S3)         lung cancer  \n",
       "..                  ...                 ...  \n",
       "242                 NaN                 NaN  \n",
       "243                 NaN                 NaN  \n",
       "244                 NaN                 NaN  \n",
       "245                 NaN                 NaN  \n",
       "246                 NaN                 NaN  \n",
       "\n",
       "[247 rows x 10 columns]"
      ]
     },
     "execution_count": 4,
     "metadata": {},
     "output_type": "execute_result"
    }
   ],
   "source": [
    "dataFrame"
   ]
  },
  {
   "cell_type": "code",
   "execution_count": 5,
   "metadata": {},
   "outputs": [
    {
     "data": {
      "text/plain": [
       "study_id     247\n",
       "subtlety     154\n",
       "size         154\n",
       "age          247\n",
       "gender       247\n",
       "x            154\n",
       "y            154\n",
       "state        247\n",
       "position     154\n",
       "diagnosis    154\n",
       "dtype: int64"
      ]
     },
     "execution_count": 5,
     "metadata": {},
     "output_type": "execute_result"
    }
   ],
   "source": [
    "dataFrame.count()"
   ]
  },
  {
   "cell_type": "code",
   "execution_count": 6,
   "metadata": {},
   "outputs": [
    {
     "data": {
      "text/plain": [
       "study_id      0\n",
       "subtlety     93\n",
       "size         93\n",
       "age           0\n",
       "gender        0\n",
       "x            93\n",
       "y            93\n",
       "state         0\n",
       "position     93\n",
       "diagnosis    93\n",
       "dtype: int64"
      ]
     },
     "execution_count": 6,
     "metadata": {},
     "output_type": "execute_result"
    }
   ],
   "source": [
    "dataFrame.isnull().sum()"
   ]
  },
  {
   "cell_type": "code",
   "execution_count": 7,
   "metadata": {},
   "outputs": [],
   "source": [
    "mx = dataFrame[\"diagnosis\"].value_counts().idxmax()"
   ]
  },
  {
   "cell_type": "code",
   "execution_count": 8,
   "metadata": {},
   "outputs": [
    {
     "data": {
      "text/plain": [
       "'lung cancer'"
      ]
     },
     "execution_count": 8,
     "metadata": {},
     "output_type": "execute_result"
    }
   ],
   "source": [
    "mx"
   ]
  },
  {
   "cell_type": "code",
   "execution_count": 9,
   "metadata": {},
   "outputs": [],
   "source": [
    "dataFrame['diagnosis'].replace(np.nan, mx, inplace = True)"
   ]
  },
  {
   "cell_type": "code",
   "execution_count": 10,
   "metadata": {},
   "outputs": [
    {
     "data": {
      "text/plain": [
       "study_id      0\n",
       "subtlety     93\n",
       "size         93\n",
       "age           0\n",
       "gender        0\n",
       "x            93\n",
       "y            93\n",
       "state         0\n",
       "position     93\n",
       "diagnosis     0\n",
       "dtype: int64"
      ]
     },
     "execution_count": 10,
     "metadata": {},
     "output_type": "execute_result"
    }
   ],
   "source": [
    "dataFrame.isnull().sum()"
   ]
  },
  {
   "cell_type": "code",
   "execution_count": null,
   "metadata": {},
   "outputs": [],
   "source": []
  },
  {
   "cell_type": "code",
   "execution_count": 11,
   "metadata": {},
   "outputs": [],
   "source": [
    "uniqueValuesNumber = dataFrame[\"diagnosis\"].nunique(dropna = True)"
   ]
  },
  {
   "cell_type": "code",
   "execution_count": 12,
   "metadata": {},
   "outputs": [
    {
     "data": {
      "text/plain": [
       "32"
      ]
     },
     "execution_count": 12,
     "metadata": {},
     "output_type": "execute_result"
    }
   ],
   "source": [
    "uniqueValuesNumber #number of diseases"
   ]
  },
  {
   "cell_type": "code",
   "execution_count": 13,
   "metadata": {},
   "outputs": [],
   "source": [
    "diseases = dataFrame[\"diagnosis\"].unique()"
   ]
  },
  {
   "cell_type": "code",
   "execution_count": 14,
   "metadata": {},
   "outputs": [
    {
     "data": {
      "text/plain": [
       "array(['lung cancer', 'pulmonary hematoma', 'Inflammatory mass',\n",
       "       'tuberculoma', 'granuloma', 'lung cancer(adenocarcinoma)',\n",
       "       'hamartoma', 'unknown', 'lung abscess',\n",
       "       'lung cancer(bronchioloalveolar cell carcinoma)', 'Cryptococcosis',\n",
       "       'lung cancer(squamous cell carcinoma)',\n",
       "       'susp. sclerosing hemangioma', 'pulmonary tuberculosis',\n",
       "       'metastasis of colon cancer', 'organiging pneumonia',\n",
       "       'inflammatory mass', 'susp.tuberculoma', 'susp. inflammatory mass',\n",
       "       'lung cancer(small cell carcinoma)', 'lung canceror metastasis',\n",
       "       'lung cancer(adenosquamous carcinoma)', 'calcified granuloma',\n",
       "       'pneumonia', 'lung cancer(large cell carcinoma)',\n",
       "       'metastatic lung cancer', 'sclerosing hemangioma',\n",
       "       'metastasis of ovarian cancer', 'organizing pneumonia',\n",
       "       'metastasis of uterine cancer', 'susp. hamartoma',\n",
       "       'susp. lung metastasis'], dtype=object)"
      ]
     },
     "execution_count": 14,
     "metadata": {},
     "output_type": "execute_result"
    }
   ],
   "source": [
    "diseases"
   ]
  },
  {
   "cell_type": "code",
   "execution_count": 15,
   "metadata": {},
   "outputs": [
    {
     "data": {
      "text/plain": [
       "['lung cancer',\n",
       " 'pulmonary hematoma',\n",
       " 'Inflammatory mass',\n",
       " 'tuberculoma',\n",
       " 'granuloma',\n",
       " 'lung cancer(adenocarcinoma)',\n",
       " 'hamartoma',\n",
       " 'unknown',\n",
       " 'lung abscess',\n",
       " 'lung cancer(bronchioloalveolar cell carcinoma)',\n",
       " 'Cryptococcosis',\n",
       " 'lung cancer(squamous cell carcinoma)',\n",
       " 'susp. sclerosing hemangioma',\n",
       " 'pulmonary tuberculosis',\n",
       " 'metastasis of colon cancer',\n",
       " 'organiging pneumonia',\n",
       " 'inflammatory mass',\n",
       " 'susp.tuberculoma',\n",
       " 'susp. inflammatory mass',\n",
       " 'lung cancer(small cell carcinoma)',\n",
       " 'lung canceror metastasis',\n",
       " 'lung cancer(adenosquamous carcinoma)',\n",
       " 'calcified granuloma',\n",
       " 'pneumonia',\n",
       " 'lung cancer(large cell carcinoma)',\n",
       " 'metastatic lung cancer',\n",
       " 'sclerosing hemangioma',\n",
       " 'metastasis of ovarian cancer',\n",
       " 'organizing pneumonia',\n",
       " 'metastasis of uterine cancer',\n",
       " 'susp. hamartoma',\n",
       " 'susp. lung metastasis']"
      ]
     },
     "execution_count": 15,
     "metadata": {},
     "output_type": "execute_result"
    }
   ],
   "source": [
    "diseaseList = [i for i in diseases]\n",
    "diseaseList"
   ]
  },
  {
   "cell_type": "code",
   "execution_count": 16,
   "metadata": {},
   "outputs": [],
   "source": [
    "numOfEachDisease =  dataFrame[\"diagnosis\"].value_counts(dropna =True)"
   ]
  },
  {
   "cell_type": "code",
   "execution_count": 17,
   "metadata": {},
   "outputs": [
    {
     "data": {
      "text/plain": [
       "lung cancer                                       149\n",
       "lung cancer(adenocarcinoma)                        23\n",
       "tuberculoma                                        14\n",
       "granuloma                                           8\n",
       "lung cancer(bronchioloalveolar cell carcinoma)      7\n",
       "unknown                                             4\n",
       "metastasis of colon cancer                          4\n",
       "inflammatory mass                                   4\n",
       "pulmonary tuberculosis                              3\n",
       "lung abscess                                        2\n",
       "Cryptococcosis                                      2\n",
       "lung cancer(squamous cell carcinoma)                2\n",
       "Inflammatory mass                                   2\n",
       "pulmonary hematoma                                  2\n",
       "susp. inflammatory mass                             2\n",
       "hamartoma                                           2\n",
       "sclerosing hemangioma                               2\n",
       "lung cancer(large cell carcinoma)                   1\n",
       "susp. hamartoma                                     1\n",
       "metastasis of uterine cancer                        1\n",
       "organizing pneumonia                                1\n",
       "metastasis of ovarian cancer                        1\n",
       "metastatic lung cancer                              1\n",
       "lung canceror metastasis                            1\n",
       "pneumonia                                           1\n",
       "calcified granuloma                                 1\n",
       "lung cancer(adenosquamous carcinoma)                1\n",
       "lung cancer(small cell carcinoma)                   1\n",
       "susp.tuberculoma                                    1\n",
       "organiging pneumonia                                1\n",
       "susp. sclerosing hemangioma                         1\n",
       "susp. lung metastasis                               1\n",
       "Name: diagnosis, dtype: int64"
      ]
     },
     "execution_count": 17,
     "metadata": {},
     "output_type": "execute_result"
    }
   ],
   "source": [
    "numOfEachDisease"
   ]
  },
  {
   "cell_type": "code",
   "execution_count": 21,
   "metadata": {},
   "outputs": [],
   "source": [
    "import matplotlib as plt\n",
    "from matplotlib import pyplot"
   ]
  },
  {
   "cell_type": "code",
   "execution_count": 23,
   "metadata": {},
   "outputs": [
    {
     "data": {
      "text/plain": [
       "(array([30.,  1.,  0.,  0.,  0.,  0.,  0.,  0.,  0.,  1.]),\n",
       " array([  1. ,  15.8,  30.6,  45.4,  60.2,  75. ,  89.8, 104.6, 119.4,\n",
       "        134.2, 149. ]),\n",
       " <BarContainer object of 10 artists>)"
      ]
     },
     "execution_count": 23,
     "metadata": {},
     "output_type": "execute_result"
    },
    {
     "data": {
      "image/png": "[encoded data removed]",
      "text/plain": [
       "<Figure size 432x288 with 1 Axes>"
      ]
     },
     "metadata": {
      "needs_background": "light"
     },
     "output_type": "display_data"
    }
   ],
   "source": [
    "plt.pyplot.title('Disease-Frequency')\n",
    "plt.pyplot.xlabel('Frequency')\n",
    "plt.pyplot.ylabel('Diseases')\n",
    "plt.pyplot.hist(x = numOfEachDisease, histtype='barstacked', label = \"Diseases\", color='red')"
   ]
  },
  {
   "cell_type": "code",
   "execution_count": null,
   "metadata": {},
   "outputs": [],
   "source": []
  },
  {
   "cell_type": "markdown",
   "metadata": {},
   "source": [
    "### Find the total number of patients of each disease (diagnosis) with respect to the disease state(malignant or benign) and plot in a pie chart"
   ]
  },
  {
   "cell_type": "code",
   "execution_count": 24,
   "metadata": {},
   "outputs": [],
   "source": [
    "malignantDisease = {}\n",
    "benignDisease = {}\n",
    "for i in range(len(dataFrame[\"diagnosis\"])):\n",
    "    if dataFrame[\"diagnosis\"][i] in diseaseList:\n",
    "        malignantDisease[dataFrame[\"diagnosis\"][i]] = 0\n",
    "        benignDisease[dataFrame[\"diagnosis\"][i]] = 0"
   ]
  },
  {
   "cell_type": "markdown",
   "metadata": {},
   "source": [
    "counting the number of each disease that is benign or malignant and saving the count in the dictionary with the diease as key"
   ]
  },
  {
   "cell_type": "code",
   "execution_count": 25,
   "metadata": {},
   "outputs": [],
   "source": [
    "for key, value in malignantDisease.items():\n",
    "    for i in range(len(dataFrame[\"state\"])):\n",
    "        if dataFrame[\"state\"][i] == \"malignant\" and dataFrame[\"diagnosis\"][i] == key:\n",
    "            malignantDisease[key] = malignantDisease[key] + 1\n",
    "        elif dataFrame[\"state\"][i] == \"benign\" and dataFrame[\"diagnosis\"][i] == key:\n",
    "            benignDisease[key] = benignDisease[key] + 1"
   ]
  },
  {
   "cell_type": "code",
   "execution_count": 48,
   "metadata": {},
   "outputs": [],
   "source": [
    "#malignantDisease"
   ]
  },
  {
   "cell_type": "code",
   "execution_count": 49,
   "metadata": {},
   "outputs": [],
   "source": [
    "#benignDisease"
   ]
  },
  {
   "cell_type": "markdown",
   "metadata": {},
   "source": [
    "removing zero values"
   ]
  },
  {
   "cell_type": "code",
   "execution_count": 28,
   "metadata": {},
   "outputs": [
    {
     "data": {
      "text/plain": [
       "{'lung cancer': 56,\n",
       " 'lung cancer(adenocarcinoma)': 23,\n",
       " 'lung cancer(bronchioloalveolar cell carcinoma)': 7,\n",
       " 'lung cancer(squamous cell carcinoma)': 2,\n",
       " 'metastasis of colon cancer': 4,\n",
       " 'lung cancer(small cell carcinoma)': 1,\n",
       " 'lung canceror metastasis': 1,\n",
       " 'lung cancer(adenosquamous carcinoma)': 1,\n",
       " 'lung cancer(large cell carcinoma)': 1,\n",
       " 'metastatic lung cancer': 1,\n",
       " 'metastasis of ovarian cancer': 1,\n",
       " 'metastasis of uterine cancer': 1,\n",
       " 'susp. lung metastasis': 1}"
      ]
     },
     "execution_count": 28,
     "metadata": {},
     "output_type": "execute_result"
    }
   ],
   "source": [
    "malignCopy = malignantDisease.copy()\n",
    "for key, value in malignCopy.items():\n",
    "    if value == 0:\n",
    "        malignantDisease.pop(key)\n",
    "malignantDisease"
   ]
  },
  {
   "cell_type": "code",
   "execution_count": 47,
   "metadata": {},
   "outputs": [
    {
     "data": {
      "text/plain": [
       "([<matplotlib.patches.Wedge at 0x7f8d6882b160>,\n",
       "  <matplotlib.patches.Wedge at 0x7f8d6882b6a0>,\n",
       "  <matplotlib.patches.Wedge at 0x7f8d6882bb80>,\n",
       "  <matplotlib.patches.Wedge at 0x7f8d688370a0>,\n",
       "  <matplotlib.patches.Wedge at 0x7f8d68837580>,\n",
       "  <matplotlib.patches.Wedge at 0x7f8d68837a60>,\n",
       "  <matplotlib.patches.Wedge at 0x7f8d68837f40>,\n",
       "  <matplotlib.patches.Wedge at 0x7f8d68845460>,\n",
       "  <matplotlib.patches.Wedge at 0x7f8d6882b130>,\n",
       "  <matplotlib.patches.Wedge at 0x7f8d68845df0>,\n",
       "  <matplotlib.patches.Wedge at 0x7f8d68850310>,\n",
       "  <matplotlib.patches.Wedge at 0x7f8d688507f0>,\n",
       "  <matplotlib.patches.Wedge at 0x7f8d68850cd0>],\n",
       " [Text(-0.20611945413751356, 1.080515974257694, 'lung cancer'),\n",
       "  Text(-0.5343118663929116, -1.0486461550140764, 'lung cancer(adenocarcinoma)'),\n",
       "  Text(0.569234289050412, -1.1171850794224139, 'lung cancer(bronchioloalveolar cell carcinoma)'),\n",
       "  Text(0.910974265999722, -0.9700889816137476, 'lung cancer(squamous cell carcinoma)'),\n",
       "  Text(1.1388470307614535, -0.8274207355764758, 'metastasis of colon cancer'),\n",
       "  Text(1.3228020164781307, -0.6740012354870564, 'lung cancer(small cell carcinoma)'),\n",
       "  Text(1.4331091664375155, -0.6201616595184478, 'lung canceror metastasis'),\n",
       "  Text(1.5415969694875444, -0.555009005949066, 'lung cancer(adenosquamous carcinoma)'),\n",
       "  Text(1.6472730288876356, -0.4785770021611776, 'lung cancer(large cell carcinoma)'),\n",
       "  Text(1.7491431305481984, -0.39097976004056084, 'metastatic lung cancer'),\n",
       "  Text(1.8462174445219701, -0.2924120657254409, 'metastasis of ovarian cancer'),\n",
       "  Text(1.937516751169503, -0.18314920648744862, 'metastasis of uterine cancer'),\n",
       "  Text(2.0220786582719352, -0.06354633307721853, 'susp. lung metastasis')])"
      ]
     },
     "execution_count": 47,
     "metadata": {},
     "output_type": "execute_result"
    },
    {
     "data": {
      "image/png": "[encoded data removed]",
      "text/plain": [
       "<Figure size 432x288 with 1 Axes>"
      ]
     },
     "metadata": {},
     "output_type": "display_data"
    }
   ],
   "source": [
    "mycolors = [\"red\", \"hotpink\", \"b\", \"#4CAF50\", \"orange\", \"blue\", \"cyan\", \"magenta\"]\n",
    "explosion  =  [(i)/len(malignantDisease) for i in range(len(malignantDisease))]\n",
    "mp.pyplot.pie(malignantDisease.values(), labels = malignantDisease.keys(), colors = mycolors, explode = explosion)"
   ]
  },
  {
   "cell_type": "code",
   "execution_count": null,
   "metadata": {},
   "outputs": [],
   "source": []
  },
  {
   "cell_type": "code",
   "execution_count": null,
   "metadata": {},
   "outputs": [],
   "source": []
  }
 ],
 "metadata": {
  "interpreter": {
   "hash": "abe1e5fe3633bbc5f3e3b2e2ef0e8179b0f97d982f5c669af361c5b0030cfcf9"
  },
  "kernelspec": {
   "display_name": "Python 3 (ipykernel)",
   "language": "python",
   "name": "python3"
  },
  "language_info": {
   "codemirror_mode": {
    "name": "ipython",
    "version": 3
   },
   "file_extension": ".py",
   "mimetype": "text/x-python",
   "name": "python",
   "nbconvert_exporter": "python",
   "pygments_lexer": "ipython3",
   "version": "3.9.7"
  }
 },
 "nbformat": 4,
 "nbformat_minor": 4
}
